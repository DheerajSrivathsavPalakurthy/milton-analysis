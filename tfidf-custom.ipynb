{
 "cells": [
  {
   "cell_type": "code",
   "execution_count": 28,
   "metadata": {
    "collapsed": false
   },
   "outputs": [],
   "source": [
    "import pandas as pd\n",
    "import glob\n",
    "import matplotlib as plt\n",
    "%matplotlib inline\n",
    "plt.rcParams['figure.figsize'] = (12,4)\n",
    "from sklearn.feature_extraction.text import CountVectorizer"
   ]
  },
  {
   "cell_type": "code",
   "execution_count": 29,
   "metadata": {
    "collapsed": true
   },
   "outputs": [],
   "source": [
    "# Analyze a subset of characters\n",
    "chars = ['narr', 'Adam', 'Eve', 'God', 'the_Son', 'Satan', 'Michael', 'Raphael']\n",
    "files = ['sp/'+f for f in chars]\n",
    "\n",
    "# Analyze all the characters\n",
    "#files = glob.glob('sp/*')\n",
    "#chars = [file[3:] for file in files]"
   ]
  },
  {
   "cell_type": "code",
   "execution_count": 37,
   "metadata": {
    "collapsed": false
   },
   "outputs": [],
   "source": [
    "cv = CountVectorizer(input='filename')\n",
    "sparse = cv.fit_transform(files)\n",
    "dense = sparse.todense()\n",
    "featureNames = cv.get_feature_names()"
   ]
  },
  {
   "cell_type": "code",
   "execution_count": 38,
   "metadata": {
    "collapsed": false
   },
   "outputs": [],
   "source": [
    "df=pd.DataFrame(dense, index=chars, columns=featureNames)"
   ]
  },
  {
   "cell_type": "code",
   "execution_count": 39,
   "metadata": {
    "collapsed": false
   },
   "outputs": [],
   "source": [
    "df1 = df.add(1) # Add 1 to everything so we avoid dividing by zero. \n",
    "df2 = (df1 / ( df1.sum() - df1 ) ) # Divide each count by the sum of the others. "
   ]
  },
  {
   "cell_type": "code",
   "execution_count": 41,
   "metadata": {
    "collapsed": true
   },
   "outputs": [],
   "source": [
    "def getDistinctiveWords(char, n=10):\n",
    "    print(df2.loc[char].sort_values(ascending=False)[:n])"
   ]
  },
  {
   "cell_type": "code",
   "execution_count": 42,
   "metadata": {
    "collapsed": false
   },
   "outputs": [
    {
     "name": "stdout",
     "output_type": "stream",
     "text": [
      "\n",
      "  --- narr ---\n",
      "\n",
      "replied    3.727273\n",
      "fiend      3.125000\n",
      "sat        3.100000\n",
      "eve        2.617647\n",
      "gate       2.300000\n",
      "adam       2.263158\n",
      "satan      2.172414\n",
      "spake      1.916667\n",
      "thus       1.850467\n",
      "er         1.833333\n",
      "Name: narr, dtype: float64\n",
      "\n",
      "  --- Adam ---\n",
      "\n",
      "us         0.793103\n",
      "why        0.761905\n",
      "bone       0.750000\n",
      "sustain    0.750000\n",
      "would      0.729730\n",
      "my         0.718121\n",
      "dust       0.687500\n",
      "approve    0.666667\n",
      "need       0.642857\n",
      "rib        0.625000\n",
      "Name: Adam, dtype: float64\n",
      "\n",
      "  --- Eve ---\n",
      "\n",
      "forbids       0.600000\n",
      "early         0.500000\n",
      "tasted        0.454545\n",
      "firmness      0.428571\n",
      "dreamed       0.428571\n",
      "glistering    0.428571\n",
      "earliest      0.428571\n",
      "endued        0.400000\n",
      "help          0.400000\n",
      "chiefly       0.384615\n",
      "Name: Eve, dtype: float64\n",
      "\n",
      "  --- God ---\n",
      "\n",
      "redeem        0.625000\n",
      "heir          0.500000\n",
      "decree        0.466667\n",
      "dye           0.444444\n",
      "friend        0.444444\n",
      "breaks        0.428571\n",
      "disobeys      0.428571\n",
      "loosing       0.428571\n",
      "vicegerent    0.428571\n",
      "mercy         0.384615\n",
      "Name: God, dtype: float64\n",
      "\n",
      "  --- the_Son ---\n",
      "\n",
      "shalt       0.500000\n",
      "redeemed    0.428571\n",
      "yielding    0.428571\n",
      "mitigate    0.375000\n",
      "absent      0.375000\n",
      "taken       0.375000\n",
      "multiply    0.363636\n",
      "sapphire    0.333333\n",
      "faint       0.333333\n",
      "hymns       0.333333\n",
      "Name: the_Son, dtype: float64\n",
      "\n",
      "  --- Satan ---\n",
      "\n",
      "your        1.764706\n",
      "you         0.916667\n",
      "counsels    0.750000\n",
      "ye          0.700000\n",
      "hazard      0.666667\n",
      "farewell    0.625000\n",
      "ambition    0.600000\n",
      "contend     0.555556\n",
      "imperial    0.545455\n",
      "infernal    0.533333\n",
      "Name: Satan, dtype: float64\n",
      "\n",
      "  --- Michael ---\n",
      "\n",
      "nations       0.818182\n",
      "faith         0.761905\n",
      "law           0.700000\n",
      "temperance    0.625000\n",
      "ark           0.600000\n",
      "salvation     0.571429\n",
      "covenant      0.555556\n",
      "shall         0.473988\n",
      "add           0.454545\n",
      "liberty       0.454545\n",
      "Name: Michael, dtype: float64\n",
      "\n",
      "  --- Raphael ---\n",
      "\n",
      "mid          0.769231\n",
      "armour       0.750000\n",
      "motion       0.727273\n",
      "sixth        0.714286\n",
      "sung         0.705882\n",
      "stars        0.684211\n",
      "cloudy       0.666667\n",
      "mountains    0.636364\n",
      "seventh      0.625000\n",
      "trumpet      0.625000\n",
      "Name: Raphael, dtype: float64\n"
     ]
    }
   ],
   "source": [
    "for char in chars: \n",
    "    print('\\n  --- %s ---\\n' % char)\n",
    "    getDistinctiveWords(char)"
   ]
  }
 ],
 "metadata": {
  "kernelspec": {
   "display_name": "Python 3",
   "language": "python",
   "name": "python3"
  },
  "language_info": {
   "codemirror_mode": {
    "name": "ipython",
    "version": 3
   },
   "file_extension": ".py",
   "mimetype": "text/x-python",
   "name": "python",
   "nbconvert_exporter": "python",
   "pygments_lexer": "ipython3",
   "version": "3.5.1"
  }
 },
 "nbformat": 4,
 "nbformat_minor": 0
}
