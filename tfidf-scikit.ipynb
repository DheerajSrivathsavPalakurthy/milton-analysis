{
 "cells": [
  {
   "cell_type": "code",
   "execution_count": 271,
   "metadata": {
    "collapsed": false
   },
   "outputs": [],
   "source": [
    "from sklearn.feature_extraction.text import TfidfVectorizer\n",
    "import pandas as pd"
   ]
  },
  {
   "cell_type": "code",
   "execution_count": 272,
   "metadata": {
    "collapsed": false
   },
   "outputs": [],
   "source": [
    "characters = ['Adam', 'Eve', 'God', 'Satan']\n",
    "files = ['sp/' + character for character in characters]\n",
    "contents = [open(file, encoding='utf-8', errors='ignore').read() \n",
    "            for file in files]"
   ]
  },
  {
   "cell_type": "code",
   "execution_count": 281,
   "metadata": {
    "collapsed": false
   },
   "outputs": [],
   "source": [
    "vectorizer = TfidfVectorizer()\n",
    "tfidf_matrix = vectorizer.fit_transform(contents)\n",
    "feature_names = vectorizer.get_feature_names()\n",
    "dense = tfidf_matrix.todense()\n",
    "denselist = dense.tolist()"
   ]
  },
  {
   "cell_type": "code",
   "execution_count": 282,
   "metadata": {
    "collapsed": false,
    "scrolled": true
   },
   "outputs": [
    {
     "data": {
      "text/html": [
       "<div>\n",
       "<table border=\"1\" class=\"dataframe\">\n",
       "  <thead>\n",
       "    <tr style=\"text-align: right;\">\n",
       "      <th></th>\n",
       "      <th>abandon</th>\n",
       "      <th>abhor</th>\n",
       "      <th>abide</th>\n",
       "      <th>abject</th>\n",
       "      <th>abjure</th>\n",
       "      <th>able</th>\n",
       "      <th>abode</th>\n",
       "      <th>abolish</th>\n",
       "      <th>abominable</th>\n",
       "      <th>abortive</th>\n",
       "      <th>...</th>\n",
       "      <th>yoke</th>\n",
       "      <th>yon</th>\n",
       "      <th>yonder</th>\n",
       "      <th>you</th>\n",
       "      <th>younger</th>\n",
       "      <th>your</th>\n",
       "      <th>yours</th>\n",
       "      <th>youth</th>\n",
       "      <th>zodiac</th>\n",
       "      <th>zone</th>\n",
       "    </tr>\n",
       "  </thead>\n",
       "  <tbody>\n",
       "    <tr>\n",
       "      <th>Adam</th>\n",
       "      <td>0.000000</td>\n",
       "      <td>0.001805</td>\n",
       "      <td>0.000000</td>\n",
       "      <td>0.000000</td>\n",
       "      <td>0.00229</td>\n",
       "      <td>0.002923</td>\n",
       "      <td>0.000000</td>\n",
       "      <td>0.00229</td>\n",
       "      <td>0.000000</td>\n",
       "      <td>0.001805</td>\n",
       "      <td>...</td>\n",
       "      <td>0.001805</td>\n",
       "      <td>0.003611</td>\n",
       "      <td>0.004780</td>\n",
       "      <td>0.000000</td>\n",
       "      <td>0.00229</td>\n",
       "      <td>0.001195</td>\n",
       "      <td>0.000000</td>\n",
       "      <td>0.00229</td>\n",
       "      <td>0.00229</td>\n",
       "      <td>0.00229</td>\n",
       "    </tr>\n",
       "    <tr>\n",
       "      <th>Eve</th>\n",
       "      <td>0.000000</td>\n",
       "      <td>0.000000</td>\n",
       "      <td>0.000000</td>\n",
       "      <td>0.000000</td>\n",
       "      <td>0.00000</td>\n",
       "      <td>0.000000</td>\n",
       "      <td>0.000000</td>\n",
       "      <td>0.00000</td>\n",
       "      <td>0.000000</td>\n",
       "      <td>0.000000</td>\n",
       "      <td>...</td>\n",
       "      <td>0.000000</td>\n",
       "      <td>0.000000</td>\n",
       "      <td>0.003393</td>\n",
       "      <td>0.000000</td>\n",
       "      <td>0.00000</td>\n",
       "      <td>0.003393</td>\n",
       "      <td>0.000000</td>\n",
       "      <td>0.00000</td>\n",
       "      <td>0.00000</td>\n",
       "      <td>0.00000</td>\n",
       "    </tr>\n",
       "    <tr>\n",
       "      <th>God</th>\n",
       "      <td>0.000000</td>\n",
       "      <td>0.000000</td>\n",
       "      <td>0.004788</td>\n",
       "      <td>0.000000</td>\n",
       "      <td>0.00000</td>\n",
       "      <td>0.003876</td>\n",
       "      <td>0.000000</td>\n",
       "      <td>0.00000</td>\n",
       "      <td>0.000000</td>\n",
       "      <td>0.000000</td>\n",
       "      <td>...</td>\n",
       "      <td>0.000000</td>\n",
       "      <td>0.000000</td>\n",
       "      <td>0.003169</td>\n",
       "      <td>0.000000</td>\n",
       "      <td>0.00000</td>\n",
       "      <td>0.006338</td>\n",
       "      <td>0.000000</td>\n",
       "      <td>0.00000</td>\n",
       "      <td>0.00000</td>\n",
       "      <td>0.00000</td>\n",
       "    </tr>\n",
       "    <tr>\n",
       "      <th>Satan</th>\n",
       "      <td>0.003159</td>\n",
       "      <td>0.002491</td>\n",
       "      <td>0.002491</td>\n",
       "      <td>0.006319</td>\n",
       "      <td>0.00000</td>\n",
       "      <td>0.002017</td>\n",
       "      <td>0.003159</td>\n",
       "      <td>0.00000</td>\n",
       "      <td>0.003159</td>\n",
       "      <td>0.002491</td>\n",
       "      <td>...</td>\n",
       "      <td>0.004982</td>\n",
       "      <td>0.002491</td>\n",
       "      <td>0.001649</td>\n",
       "      <td>0.031594</td>\n",
       "      <td>0.00000</td>\n",
       "      <td>0.047812</td>\n",
       "      <td>0.009478</td>\n",
       "      <td>0.00000</td>\n",
       "      <td>0.00000</td>\n",
       "      <td>0.00000</td>\n",
       "    </tr>\n",
       "  </tbody>\n",
       "</table>\n",
       "<p>4 rows × 4091 columns</p>\n",
       "</div>"
      ],
      "text/plain": [
       "        abandon     abhor     abide    abject   abjure      able     abode  \\\n",
       "Adam   0.000000  0.001805  0.000000  0.000000  0.00229  0.002923  0.000000   \n",
       "Eve    0.000000  0.000000  0.000000  0.000000  0.00000  0.000000  0.000000   \n",
       "God    0.000000  0.000000  0.004788  0.000000  0.00000  0.003876  0.000000   \n",
       "Satan  0.003159  0.002491  0.002491  0.006319  0.00000  0.002017  0.003159   \n",
       "\n",
       "       abolish  abominable  abortive   ...         yoke       yon    yonder  \\\n",
       "Adam   0.00229    0.000000  0.001805   ...     0.001805  0.003611  0.004780   \n",
       "Eve    0.00000    0.000000  0.000000   ...     0.000000  0.000000  0.003393   \n",
       "God    0.00000    0.000000  0.000000   ...     0.000000  0.000000  0.003169   \n",
       "Satan  0.00000    0.003159  0.002491   ...     0.004982  0.002491  0.001649   \n",
       "\n",
       "            you  younger      your     yours    youth   zodiac     zone  \n",
       "Adam   0.000000  0.00229  0.001195  0.000000  0.00229  0.00229  0.00229  \n",
       "Eve    0.000000  0.00000  0.003393  0.000000  0.00000  0.00000  0.00000  \n",
       "God    0.000000  0.00000  0.006338  0.000000  0.00000  0.00000  0.00000  \n",
       "Satan  0.031594  0.00000  0.047812  0.009478  0.00000  0.00000  0.00000  \n",
       "\n",
       "[4 rows x 4091 columns]"
      ]
     },
     "execution_count": 282,
     "metadata": {},
     "output_type": "execute_result"
    }
   ],
   "source": [
    "df = pd.DataFrame(denselist, columns=feature_names, index=characters)\n",
    "df"
   ]
  },
  {
   "cell_type": "code",
   "execution_count": 278,
   "metadata": {
    "collapsed": false
   },
   "outputs": [
    {
     "data": {
      "text/plain": [
       "and     0.497077\n",
       "to      0.387147\n",
       "the     0.316648\n",
       "of      0.298724\n",
       "in      0.186404\n",
       "with    0.144583\n",
       "his     0.140998\n",
       "that    0.130244\n",
       "not     0.127854\n",
       "my      0.126659\n",
       "Name: Adam, dtype: float64"
      ]
     },
     "execution_count": 278,
     "metadata": {},
     "output_type": "execute_result"
    }
   ],
   "source": [
    "s = pd.Series(df.loc['Adam'])\n",
    "s[s > 0].sort_values(ascending=False)[:10]"
   ]
  },
  {
   "cell_type": "code",
   "execution_count": 280,
   "metadata": {
    "collapsed": false
   },
   "outputs": [
    {
     "data": {
      "text/plain": [
       "and     0.417380\n",
       "to      0.393626\n",
       "of      0.308793\n",
       "the     0.278253\n",
       "with    0.166273\n",
       "thee    0.159486\n",
       "thy     0.152700\n",
       "not     0.149306\n",
       "in      0.145913\n",
       "me      0.128947\n",
       "Name: Eve, dtype: float64"
      ]
     },
     "execution_count": 280,
     "metadata": {},
     "output_type": "execute_result"
    }
   ],
   "source": [
    "s = pd.Series(df.loc['Eve'])\n",
    "s[s > 0].sort_values(ascending=False)[:10]"
   ]
  },
  {
   "cell_type": "code",
   "execution_count": null,
   "metadata": {
    "collapsed": true
   },
   "outputs": [],
   "source": []
  }
 ],
 "metadata": {
  "kernelspec": {
   "display_name": "Python 3",
   "language": "python",
   "name": "python3"
  },
  "language_info": {
   "codemirror_mode": {
    "name": "ipython",
    "version": 3
   },
   "file_extension": ".py",
   "mimetype": "text/x-python",
   "name": "python",
   "nbconvert_exporter": "python",
   "pygments_lexer": "ipython3",
   "version": "3.5.1"
  }
 },
 "nbformat": 4,
 "nbformat_minor": 0
}
