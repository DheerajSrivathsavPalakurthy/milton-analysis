{
 "cells": [
  {
   "cell_type": "code",
   "execution_count": 1,
   "metadata": {
    "collapsed": false
   },
   "outputs": [],
   "source": [
    "from sklearn.feature_extraction.text import TfidfVectorizer\n",
    "import pandas as pd"
   ]
  },
  {
   "cell_type": "code",
   "execution_count": 2,
   "metadata": {
    "collapsed": false
   },
   "outputs": [],
   "source": [
    "\n",
    "files = ['sp/' + character for character in characters]\n",
    "contents = [open(file, encoding='utf-8', errors='ignore').read() \n",
    "            for file in files]\n",
    "files = "
   ]
  },
  {
   "cell_type": "code",
   "execution_count": 27,
   "metadata": {
    "collapsed": false
   },
   "outputs": [],
   "source": [
    "stopwords = ['and', 'to', 'of', 'the', 'in', 'with', 'his', 'that', 'not', 'my', 'me', 'thee', 'thy',\n",
    "            'or', 'all', 'but', 'from', 'this', 'thou', 'our', 'what', 'by', 'so', 'as', 'be', 'us']\n",
    "vectorizer = TfidfVectorizer(sublinear_tf=True, stop_words=stopwords)\n",
    "tfidf_matrix = vectorizer.fit_transform(contents)\n",
    "feature_names = vectorizer.get_feature_names()\n",
    "dense = tfidf_matrix.todense()\n",
    "denselist = dense.tolist()"
   ]
  },
  {
   "cell_type": "code",
   "execution_count": 28,
   "metadata": {
    "collapsed": false,
    "scrolled": true
   },
   "outputs": [
    {
     "data": {
      "text/html": [
       "<div>\n",
       "<table border=\"1\" class=\"dataframe\">\n",
       "  <thead>\n",
       "    <tr style=\"text-align: right;\">\n",
       "      <th></th>\n",
       "      <th>abhor</th>\n",
       "      <th>abjure</th>\n",
       "      <th>able</th>\n",
       "      <th>abolish</th>\n",
       "      <th>abortive</th>\n",
       "      <th>abound</th>\n",
       "      <th>about</th>\n",
       "      <th>above</th>\n",
       "      <th>abraham</th>\n",
       "      <th>absence</th>\n",
       "      <th>...</th>\n",
       "      <th>yielded</th>\n",
       "      <th>yields</th>\n",
       "      <th>yoke</th>\n",
       "      <th>yon</th>\n",
       "      <th>yonder</th>\n",
       "      <th>younger</th>\n",
       "      <th>your</th>\n",
       "      <th>youth</th>\n",
       "      <th>zodiac</th>\n",
       "      <th>zone</th>\n",
       "    </tr>\n",
       "  </thead>\n",
       "  <tbody>\n",
       "    <tr>\n",
       "      <th>Adam</th>\n",
       "      <td>0.013814</td>\n",
       "      <td>0.013814</td>\n",
       "      <td>0.023389</td>\n",
       "      <td>0.013814</td>\n",
       "      <td>0.013814</td>\n",
       "      <td>0.013814</td>\n",
       "      <td>0.016642</td>\n",
       "      <td>0.031425</td>\n",
       "      <td>0.013814</td>\n",
       "      <td>0.023455</td>\n",
       "      <td>...</td>\n",
       "      <td>0.009829</td>\n",
       "      <td>0.009829</td>\n",
       "      <td>0.013814</td>\n",
       "      <td>0.023389</td>\n",
       "      <td>0.023455</td>\n",
       "      <td>0.013814</td>\n",
       "      <td>0.009829</td>\n",
       "      <td>0.013814</td>\n",
       "      <td>0.013814</td>\n",
       "      <td>0.013814</td>\n",
       "    </tr>\n",
       "    <tr>\n",
       "      <th>Eve</th>\n",
       "      <td>0.000000</td>\n",
       "      <td>0.000000</td>\n",
       "      <td>0.000000</td>\n",
       "      <td>0.000000</td>\n",
       "      <td>0.000000</td>\n",
       "      <td>0.000000</td>\n",
       "      <td>0.017326</td>\n",
       "      <td>0.017326</td>\n",
       "      <td>0.000000</td>\n",
       "      <td>0.017326</td>\n",
       "      <td>...</td>\n",
       "      <td>0.017326</td>\n",
       "      <td>0.017326</td>\n",
       "      <td>0.000000</td>\n",
       "      <td>0.000000</td>\n",
       "      <td>0.017326</td>\n",
       "      <td>0.000000</td>\n",
       "      <td>0.017326</td>\n",
       "      <td>0.000000</td>\n",
       "      <td>0.000000</td>\n",
       "      <td>0.000000</td>\n",
       "    </tr>\n",
       "  </tbody>\n",
       "</table>\n",
       "<p>2 rows × 2918 columns</p>\n",
       "</div>"
      ],
      "text/plain": [
       "         abhor    abjure      able   abolish  abortive    abound     about  \\\n",
       "Adam  0.013814  0.013814  0.023389  0.013814  0.013814  0.013814  0.016642   \n",
       "Eve   0.000000  0.000000  0.000000  0.000000  0.000000  0.000000  0.017326   \n",
       "\n",
       "         above   abraham   absence    ...      yielded    yields      yoke  \\\n",
       "Adam  0.031425  0.013814  0.023455    ...     0.009829  0.009829  0.013814   \n",
       "Eve   0.017326  0.000000  0.017326    ...     0.017326  0.017326  0.000000   \n",
       "\n",
       "           yon    yonder   younger      your     youth    zodiac      zone  \n",
       "Adam  0.023389  0.023455  0.013814  0.009829  0.013814  0.013814  0.013814  \n",
       "Eve   0.000000  0.017326  0.000000  0.017326  0.000000  0.000000  0.000000  \n",
       "\n",
       "[2 rows x 2918 columns]"
      ]
     },
     "execution_count": 28,
     "metadata": {},
     "output_type": "execute_result"
    }
   ],
   "source": [
    "df = pd.DataFrame(denselist, columns=feature_names, index=characters)\n",
    "df"
   ]
  },
  {
   "cell_type": "code",
   "execution_count": 29,
   "metadata": {
    "collapsed": false
   },
   "outputs": [
    {
     "data": {
      "text/plain": [
       "then        0.050551\n",
       "which       0.050394\n",
       "heavenly    0.050271\n",
       "for         0.049907\n",
       "her         0.049739\n",
       "on          0.049217\n",
       "will        0.047460\n",
       "god         0.047460\n",
       "we          0.047244\n",
       "yet         0.047244\n",
       "Name: Adam, dtype: float64"
      ]
     },
     "execution_count": 29,
     "metadata": {},
     "output_type": "execute_result"
    }
   ],
   "source": [
    "s = pd.Series(df.loc['Adam'])\n",
    "s[s > 0].sort_values(ascending=False)[:10]"
   ]
  },
  {
   "cell_type": "code",
   "execution_count": 30,
   "metadata": {
    "collapsed": false
   },
   "outputs": [
    {
     "data": {
      "text/plain": [
       "then       0.075667\n",
       "for        0.075059\n",
       "is         0.074429\n",
       "on         0.071651\n",
       "we         0.070075\n",
       "shall      0.068341\n",
       "it         0.066414\n",
       "death      0.066414\n",
       "have       0.066414\n",
       "forbids    0.063542\n",
       "Name: Eve, dtype: float64"
      ]
     },
     "execution_count": 30,
     "metadata": {},
     "output_type": "execute_result"
    }
   ],
   "source": [
    "s = pd.Series(df.loc['Eve'])\n",
    "s[s > 0].sort_values(ascending=False)[:10]"
   ]
  },
  {
   "cell_type": "code",
   "execution_count": null,
   "metadata": {
    "collapsed": true
   },
   "outputs": [],
   "source": []
  }
 ],
 "metadata": {
  "kernelspec": {
   "display_name": "Python 3",
   "language": "python",
   "name": "python3"
  },
  "language_info": {
   "codemirror_mode": {
    "name": "ipython",
    "version": 3
   },
   "file_extension": ".py",
   "mimetype": "text/x-python",
   "name": "python",
   "nbconvert_exporter": "python",
   "pygments_lexer": "ipython3",
   "version": "3.5.1"
  }
 },
 "nbformat": 4,
 "nbformat_minor": 0
}
