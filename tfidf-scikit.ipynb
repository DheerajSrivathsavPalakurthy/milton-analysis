{
 "cells": [
  {
   "cell_type": "code",
   "execution_count": 1,
   "metadata": {
    "collapsed": false
   },
   "outputs": [],
   "source": [
    "from sklearn.feature_extraction.text import TfidfVectorizer\n",
    "import pandas as pd\n",
    "from glob import glob"
   ]
  },
  {
   "cell_type": "code",
   "execution_count": 8,
   "metadata": {
    "collapsed": false
   },
   "outputs": [],
   "source": [
    "# Analyze a subset of characters\n",
    "chars = ['narr', 'Adam', 'Eve', 'God', 'the_Son', 'Satan', 'Michael', 'Raphael']\n",
    "files = ['sp/'+f for f in chars]\n",
    "\n",
    "# Analyze all the characters\n",
    "#files = glob.glob('sp/*')\n",
    "#chars = [file[3:] for file in files]"
   ]
  },
  {
   "cell_type": "code",
   "execution_count": 10,
   "metadata": {
    "collapsed": false
   },
   "outputs": [],
   "source": [
    "vectorizer = TfidfVectorizer(input='filename', sublinear_tf=True)\n",
    "tfidf_matrix = vectorizer.fit_transform(files)\n",
    "feature_names = vectorizer.get_feature_names()\n",
    "dense = tfidf_matrix.todense()"
   ]
  },
  {
   "cell_type": "code",
   "execution_count": 11,
   "metadata": {
    "collapsed": false,
    "scrolled": true
   },
   "outputs": [
    {
     "data": {
      "text/html": [
       "<div>\n",
       "<table border=\"1\" class=\"dataframe\">\n",
       "  <thead>\n",
       "    <tr style=\"text-align: right;\">\n",
       "      <th></th>\n",
       "      <th>101</th>\n",
       "      <th>aarons</th>\n",
       "      <th>abandon</th>\n",
       "      <th>abandoned</th>\n",
       "      <th>abarim</th>\n",
       "      <th>abashed</th>\n",
       "      <th>abassin</th>\n",
       "      <th>abated</th>\n",
       "      <th>abbana</th>\n",
       "      <th>abdiel</th>\n",
       "      <th>...</th>\n",
       "      <th>zealous</th>\n",
       "      <th>zenith</th>\n",
       "      <th>zephir</th>\n",
       "      <th>zephon</th>\n",
       "      <th>zephyr</th>\n",
       "      <th>zephyrus</th>\n",
       "      <th>zion</th>\n",
       "      <th>zodiac</th>\n",
       "      <th>zone</th>\n",
       "      <th>zophiel</th>\n",
       "    </tr>\n",
       "  </thead>\n",
       "  <tbody>\n",
       "    <tr>\n",
       "      <th>narr</th>\n",
       "      <td>0.00974</td>\n",
       "      <td>0.00974</td>\n",
       "      <td>0.000000</td>\n",
       "      <td>0.00974</td>\n",
       "      <td>0.00974</td>\n",
       "      <td>0.025416</td>\n",
       "      <td>0.00974</td>\n",
       "      <td>0.00974</td>\n",
       "      <td>0.00974</td>\n",
       "      <td>0.017131</td>\n",
       "      <td>...</td>\n",
       "      <td>0.00974</td>\n",
       "      <td>0.016491</td>\n",
       "      <td>0.00974</td>\n",
       "      <td>0.016491</td>\n",
       "      <td>0.00974</td>\n",
       "      <td>0.00974</td>\n",
       "      <td>0.025416</td>\n",
       "      <td>0.000000</td>\n",
       "      <td>0.007044</td>\n",
       "      <td>0.000000</td>\n",
       "    </tr>\n",
       "    <tr>\n",
       "      <th>Adam</th>\n",
       "      <td>0.00000</td>\n",
       "      <td>0.00000</td>\n",
       "      <td>0.000000</td>\n",
       "      <td>0.00000</td>\n",
       "      <td>0.00000</td>\n",
       "      <td>0.000000</td>\n",
       "      <td>0.00000</td>\n",
       "      <td>0.00000</td>\n",
       "      <td>0.00000</td>\n",
       "      <td>0.000000</td>\n",
       "      <td>...</td>\n",
       "      <td>0.00000</td>\n",
       "      <td>0.000000</td>\n",
       "      <td>0.00000</td>\n",
       "      <td>0.000000</td>\n",
       "      <td>0.00000</td>\n",
       "      <td>0.00000</td>\n",
       "      <td>0.000000</td>\n",
       "      <td>0.018848</td>\n",
       "      <td>0.013631</td>\n",
       "      <td>0.000000</td>\n",
       "    </tr>\n",
       "    <tr>\n",
       "      <th>Eve</th>\n",
       "      <td>0.00000</td>\n",
       "      <td>0.00000</td>\n",
       "      <td>0.000000</td>\n",
       "      <td>0.00000</td>\n",
       "      <td>0.00000</td>\n",
       "      <td>0.000000</td>\n",
       "      <td>0.00000</td>\n",
       "      <td>0.00000</td>\n",
       "      <td>0.00000</td>\n",
       "      <td>0.000000</td>\n",
       "      <td>...</td>\n",
       "      <td>0.00000</td>\n",
       "      <td>0.000000</td>\n",
       "      <td>0.00000</td>\n",
       "      <td>0.000000</td>\n",
       "      <td>0.00000</td>\n",
       "      <td>0.00000</td>\n",
       "      <td>0.000000</td>\n",
       "      <td>0.000000</td>\n",
       "      <td>0.000000</td>\n",
       "      <td>0.000000</td>\n",
       "    </tr>\n",
       "    <tr>\n",
       "      <th>God</th>\n",
       "      <td>0.00000</td>\n",
       "      <td>0.00000</td>\n",
       "      <td>0.000000</td>\n",
       "      <td>0.00000</td>\n",
       "      <td>0.00000</td>\n",
       "      <td>0.000000</td>\n",
       "      <td>0.00000</td>\n",
       "      <td>0.00000</td>\n",
       "      <td>0.00000</td>\n",
       "      <td>0.000000</td>\n",
       "      <td>...</td>\n",
       "      <td>0.00000</td>\n",
       "      <td>0.000000</td>\n",
       "      <td>0.00000</td>\n",
       "      <td>0.000000</td>\n",
       "      <td>0.00000</td>\n",
       "      <td>0.00000</td>\n",
       "      <td>0.000000</td>\n",
       "      <td>0.000000</td>\n",
       "      <td>0.000000</td>\n",
       "      <td>0.000000</td>\n",
       "    </tr>\n",
       "    <tr>\n",
       "      <th>the_Son</th>\n",
       "      <td>0.00000</td>\n",
       "      <td>0.00000</td>\n",
       "      <td>0.000000</td>\n",
       "      <td>0.00000</td>\n",
       "      <td>0.00000</td>\n",
       "      <td>0.000000</td>\n",
       "      <td>0.00000</td>\n",
       "      <td>0.00000</td>\n",
       "      <td>0.00000</td>\n",
       "      <td>0.000000</td>\n",
       "      <td>...</td>\n",
       "      <td>0.00000</td>\n",
       "      <td>0.000000</td>\n",
       "      <td>0.00000</td>\n",
       "      <td>0.000000</td>\n",
       "      <td>0.00000</td>\n",
       "      <td>0.00000</td>\n",
       "      <td>0.000000</td>\n",
       "      <td>0.000000</td>\n",
       "      <td>0.000000</td>\n",
       "      <td>0.000000</td>\n",
       "    </tr>\n",
       "    <tr>\n",
       "      <th>Satan</th>\n",
       "      <td>0.00000</td>\n",
       "      <td>0.00000</td>\n",
       "      <td>0.022246</td>\n",
       "      <td>0.00000</td>\n",
       "      <td>0.00000</td>\n",
       "      <td>0.000000</td>\n",
       "      <td>0.00000</td>\n",
       "      <td>0.00000</td>\n",
       "      <td>0.00000</td>\n",
       "      <td>0.000000</td>\n",
       "      <td>...</td>\n",
       "      <td>0.00000</td>\n",
       "      <td>0.000000</td>\n",
       "      <td>0.00000</td>\n",
       "      <td>0.000000</td>\n",
       "      <td>0.00000</td>\n",
       "      <td>0.00000</td>\n",
       "      <td>0.000000</td>\n",
       "      <td>0.000000</td>\n",
       "      <td>0.000000</td>\n",
       "      <td>0.000000</td>\n",
       "    </tr>\n",
       "    <tr>\n",
       "      <th>Michael</th>\n",
       "      <td>0.00000</td>\n",
       "      <td>0.00000</td>\n",
       "      <td>0.000000</td>\n",
       "      <td>0.00000</td>\n",
       "      <td>0.00000</td>\n",
       "      <td>0.000000</td>\n",
       "      <td>0.00000</td>\n",
       "      <td>0.00000</td>\n",
       "      <td>0.00000</td>\n",
       "      <td>0.000000</td>\n",
       "      <td>...</td>\n",
       "      <td>0.00000</td>\n",
       "      <td>0.000000</td>\n",
       "      <td>0.00000</td>\n",
       "      <td>0.000000</td>\n",
       "      <td>0.00000</td>\n",
       "      <td>0.00000</td>\n",
       "      <td>0.000000</td>\n",
       "      <td>0.000000</td>\n",
       "      <td>0.000000</td>\n",
       "      <td>0.000000</td>\n",
       "    </tr>\n",
       "    <tr>\n",
       "      <th>Raphael</th>\n",
       "      <td>0.00000</td>\n",
       "      <td>0.00000</td>\n",
       "      <td>0.000000</td>\n",
       "      <td>0.00000</td>\n",
       "      <td>0.00000</td>\n",
       "      <td>0.000000</td>\n",
       "      <td>0.00000</td>\n",
       "      <td>0.00000</td>\n",
       "      <td>0.00000</td>\n",
       "      <td>0.031820</td>\n",
       "      <td>...</td>\n",
       "      <td>0.00000</td>\n",
       "      <td>0.000000</td>\n",
       "      <td>0.00000</td>\n",
       "      <td>0.000000</td>\n",
       "      <td>0.00000</td>\n",
       "      <td>0.00000</td>\n",
       "      <td>0.000000</td>\n",
       "      <td>0.000000</td>\n",
       "      <td>0.013084</td>\n",
       "      <td>0.018092</td>\n",
       "    </tr>\n",
       "  </tbody>\n",
       "</table>\n",
       "<p>8 rows × 8627 columns</p>\n",
       "</div>"
      ],
      "text/plain": [
       "             101   aarons   abandon  abandoned   abarim   abashed  abassin  \\\n",
       "narr     0.00974  0.00974  0.000000    0.00974  0.00974  0.025416  0.00974   \n",
       "Adam     0.00000  0.00000  0.000000    0.00000  0.00000  0.000000  0.00000   \n",
       "Eve      0.00000  0.00000  0.000000    0.00000  0.00000  0.000000  0.00000   \n",
       "God      0.00000  0.00000  0.000000    0.00000  0.00000  0.000000  0.00000   \n",
       "the_Son  0.00000  0.00000  0.000000    0.00000  0.00000  0.000000  0.00000   \n",
       "Satan    0.00000  0.00000  0.022246    0.00000  0.00000  0.000000  0.00000   \n",
       "Michael  0.00000  0.00000  0.000000    0.00000  0.00000  0.000000  0.00000   \n",
       "Raphael  0.00000  0.00000  0.000000    0.00000  0.00000  0.000000  0.00000   \n",
       "\n",
       "          abated   abbana    abdiel    ...     zealous    zenith   zephir  \\\n",
       "narr     0.00974  0.00974  0.017131    ...     0.00974  0.016491  0.00974   \n",
       "Adam     0.00000  0.00000  0.000000    ...     0.00000  0.000000  0.00000   \n",
       "Eve      0.00000  0.00000  0.000000    ...     0.00000  0.000000  0.00000   \n",
       "God      0.00000  0.00000  0.000000    ...     0.00000  0.000000  0.00000   \n",
       "the_Son  0.00000  0.00000  0.000000    ...     0.00000  0.000000  0.00000   \n",
       "Satan    0.00000  0.00000  0.000000    ...     0.00000  0.000000  0.00000   \n",
       "Michael  0.00000  0.00000  0.000000    ...     0.00000  0.000000  0.00000   \n",
       "Raphael  0.00000  0.00000  0.031820    ...     0.00000  0.000000  0.00000   \n",
       "\n",
       "           zephon   zephyr  zephyrus      zion    zodiac      zone   zophiel  \n",
       "narr     0.016491  0.00974   0.00974  0.025416  0.000000  0.007044  0.000000  \n",
       "Adam     0.000000  0.00000   0.00000  0.000000  0.018848  0.013631  0.000000  \n",
       "Eve      0.000000  0.00000   0.00000  0.000000  0.000000  0.000000  0.000000  \n",
       "God      0.000000  0.00000   0.00000  0.000000  0.000000  0.000000  0.000000  \n",
       "the_Son  0.000000  0.00000   0.00000  0.000000  0.000000  0.000000  0.000000  \n",
       "Satan    0.000000  0.00000   0.00000  0.000000  0.000000  0.000000  0.000000  \n",
       "Michael  0.000000  0.00000   0.00000  0.000000  0.000000  0.000000  0.000000  \n",
       "Raphael  0.000000  0.00000   0.00000  0.000000  0.000000  0.013084  0.018092  \n",
       "\n",
       "[8 rows x 8627 columns]"
      ]
     },
     "execution_count": 11,
     "metadata": {},
     "output_type": "execute_result"
    }
   ],
   "source": [
    "df = pd.DataFrame(dense, columns=feature_names, index=chars)\n",
    "df"
   ]
  },
  {
   "cell_type": "code",
   "execution_count": 12,
   "metadata": {
    "collapsed": false
   },
   "outputs": [
    {
     "data": {
      "text/plain": [
       "narr       0.031911\n",
       "Adam       0.052919\n",
       "Eve        0.074224\n",
       "God        0.080275\n",
       "the_Son    0.089571\n",
       "Satan      0.058912\n",
       "Michael    0.070478\n",
       "Raphael    0.051445\n",
       "Name: and, dtype: float64"
      ]
     },
     "execution_count": 12,
     "metadata": {},
     "output_type": "execute_result"
    }
   ],
   "source": [
    "df['and']"
   ]
  },
  {
   "cell_type": "code",
   "execution_count": 13,
   "metadata": {
    "collapsed": false
   },
   "outputs": [
    {
     "data": {
      "text/plain": [
       "and     0.052919\n",
       "to      0.051037\n",
       "the     0.049524\n",
       "of      0.049086\n",
       "my      0.047649\n",
       "in      0.045536\n",
       "we      0.045271\n",
       "why     0.044315\n",
       "with    0.043624\n",
       "his     0.043435\n",
       "Name: Adam, dtype: float64"
      ]
     },
     "execution_count": 13,
     "metadata": {},
     "output_type": "execute_result"
    }
   ],
   "source": [
    "s = pd.Series(df.loc['Adam'])\n",
    "s[s > 0].sort_values(ascending=False)[:10]"
   ]
  },
  {
   "cell_type": "code",
   "execution_count": 14,
   "metadata": {
    "collapsed": false
   },
   "outputs": [
    {
     "data": {
      "text/plain": [
       "and     0.074224\n",
       "to      0.073476\n",
       "of      0.070376\n",
       "the     0.069046\n",
       "our     0.065026\n",
       "we      0.064631\n",
       "my      0.062825\n",
       "with    0.062471\n",
       "thee    0.061938\n",
       "thy     0.061383\n",
       "Name: Eve, dtype: float64"
      ]
     },
     "execution_count": 14,
     "metadata": {},
     "output_type": "execute_result"
    }
   ],
   "source": [
    "s = pd.Series(df.loc['Eve'])\n",
    "s[s > 0].sort_values(ascending=False)[:10]"
   ]
  },
  {
   "cell_type": "code",
   "execution_count": null,
   "metadata": {
    "collapsed": true
   },
   "outputs": [],
   "source": []
  }
 ],
 "metadata": {
  "kernelspec": {
   "display_name": "Python 3",
   "language": "python",
   "name": "python3"
  },
  "language_info": {
   "codemirror_mode": {
    "name": "ipython",
    "version": 3
   },
   "file_extension": ".py",
   "mimetype": "text/x-python",
   "name": "python",
   "nbconvert_exporter": "python",
   "pygments_lexer": "ipython3",
   "version": "3.5.1"
  }
 },
 "nbformat": 4,
 "nbformat_minor": 0
}
